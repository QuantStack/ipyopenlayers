{
 "cells": [
  {
   "cell_type": "markdown",
   "metadata": {},
   "source": [
    "# Introduction"
   ]
  },
  {
   "cell_type": "code",
   "execution_count": 1,
   "metadata": {},
   "outputs": [],
   "source": [
    "from ipyopenlayers import Map, TileLayer, ImageOverlay, VideoOverlay,PopupOverlay, ZoomSlider,FullScreen,ScaleLine,MousePosition"
   ]
  },
  {
   "cell_type": "code",
   "execution_count": 2,
   "metadata": {},
   "outputs": [],
   "source": [
    "from ipyopenlayers import GeoJSON, HeatmapLayer"
   ]
  },
  {
   "cell_type": "code",
   "execution_count": 3,
   "metadata": {},
   "outputs": [
    {
     "data": {
      "application/vnd.jupyter.widget-view+json": {
       "model_id": "4c76f387aa9d4970b97a987e4dbae92f",
       "version_major": 2,
       "version_minor": 0
      },
      "text/plain": [
       "Map(center=[0.0, 0.0])"
      ]
     },
     "execution_count": 3,
     "metadata": {},
     "output_type": "execute_result"
    }
   ],
   "source": [
    "m = Map(center=[0.0, 0.0], zoom=2)\n",
    "m"
   ]
  },
  {
   "cell_type": "code",
   "execution_count": 4,
   "metadata": {},
   "outputs": [],
   "source": [
    "layer=TileLayer()\n",
    "m.add_layer(layer)"
   ]
  },
  {
   "cell_type": "code",
   "execution_count": 5,
   "metadata": {},
   "outputs": [
    {
     "data": {
      "text/plain": [
       "[0.0, 0.0]"
      ]
     },
     "execution_count": 5,
     "metadata": {},
     "output_type": "execute_result"
    }
   ],
   "source": [
    "m.center"
   ]
  },
  {
   "cell_type": "code",
   "execution_count": 6,
   "metadata": {},
   "outputs": [
    {
     "data": {
      "text/plain": [
       "2.0"
      ]
     },
     "execution_count": 6,
     "metadata": {},
     "output_type": "execute_result"
    }
   ],
   "source": [
    "m.zoom"
   ]
  },
  {
   "cell_type": "code",
   "execution_count": 7,
   "metadata": {},
   "outputs": [],
   "source": [
    "layere=TileLayer()\n",
    "layere.url='https://{a-c}.basemaps.cartocdn.com/dark_all/{z}/{x}/{y}.png'\n",
    "m.add_layer(layere)"
   ]
  },
  {
   "cell_type": "code",
   "execution_count": 8,
   "metadata": {},
   "outputs": [],
   "source": [
    "m.remove_layer(layere)"
   ]
  },
  {
   "cell_type": "code",
   "execution_count": 9,
   "metadata": {},
   "outputs": [],
   "source": [
    "zoom=ZoomSlider()\n",
    "full=FullScreen()\n",
    "scale=ScaleLine()\n",
    "coord=MousePosition()"
   ]
  },
  {
   "cell_type": "code",
   "execution_count": 10,
   "metadata": {},
   "outputs": [],
   "source": [
    "m.add_control(zoom)\n",
    "m.add_control(scale)\n",
    "m.add_control(coord)\n",
    "m.add_control(full)"
   ]
  },
  {
   "cell_type": "code",
   "execution_count": 11,
   "metadata": {},
   "outputs": [],
   "source": [
    "image=ImageOverlay()\n",
    "image.image_url=\"https://i.imgur.com/06Q1fSz.png\"\n",
    "m.add_overlay(image)"
   ]
  },
  {
   "cell_type": "code",
   "execution_count": 12,
   "metadata": {},
   "outputs": [],
   "source": [
    "image.image_url=\"https://i.imgur.com/ZF6s192.png\""
   ]
  },
  {
   "cell_type": "code",
   "execution_count": 13,
   "metadata": {},
   "outputs": [],
   "source": [
    "image.position=[-70,70]"
   ]
  },
  {
   "cell_type": "code",
   "execution_count": 14,
   "metadata": {},
   "outputs": [],
   "source": [
    "imaget=ImageOverlay()\n",
    "imaget.image_url=\"https://upload.wikimedia.org/wikipedia/en/a/a9/Example.jpg\"\n",
    "m.add_overlay(imaget)"
   ]
  },
  {
   "cell_type": "code",
   "execution_count": 15,
   "metadata": {},
   "outputs": [],
   "source": [
    "m.remove_overlay(imaget)"
   ]
  },
  {
   "cell_type": "code",
   "execution_count": 16,
   "metadata": {},
   "outputs": [],
   "source": [
    "video=VideoOverlay()\n",
    "video.video_url=\"https://www.mapbox.com/bites/00188/patricia_nasa.webm\"\n",
    "m.add_overlay(video)"
   ]
  },
  {
   "cell_type": "code",
   "execution_count": 17,
   "metadata": {},
   "outputs": [],
   "source": [
    "video.video_url=\"https://www.w3schools.com/html/mov_bbb.webm\"\n",
    "video.position=[-70,80]"
   ]
  },
  {
   "cell_type": "code",
   "execution_count": 18,
   "metadata": {},
   "outputs": [],
   "source": [
    "m.remove_overlay(video)"
   ]
  },
  {
   "cell_type": "code",
   "execution_count": 19,
   "metadata": {},
   "outputs": [],
   "source": [
    "video2=VideoOverlay()\n",
    "video2.video_url=\"https://www.mapbox.com/bites/00188/patricia_nasa.webm\"\n",
    "m.add_overlay(video2)"
   ]
  },
  {
   "cell_type": "code",
   "execution_count": 20,
   "metadata": {},
   "outputs": [],
   "source": [
    "m.remove_overlay(video2)"
   ]
  },
  {
   "cell_type": "code",
   "execution_count": 21,
   "metadata": {},
   "outputs": [],
   "source": [
    "popup=PopupOverlay()\n",
    "popup.popup_content='Maap'\n",
    "m.add_overlay(popup)"
   ]
  },
  {
   "cell_type": "code",
   "execution_count": 22,
   "metadata": {},
   "outputs": [],
   "source": [
    "m.remove_overlay(popup)"
   ]
  },
  {
   "cell_type": "code",
   "execution_count": 23,
   "metadata": {},
   "outputs": [],
   "source": [
    "widget= GeoJSON()"
   ]
  },
  {
   "cell_type": "code",
   "execution_count": 24,
   "metadata": {},
   "outputs": [],
   "source": [
    "widget = GeoJSON(\n",
    "    data={\n",
    "        'type': 'FeatureCollection',\n",
    "        'features': [\n",
    "            {\n",
    "                'type': 'Feature',\n",
    "                'geometry': {\n",
    "                    'type': 'Point',\n",
    "                    'coordinates': [0, 0],\n",
    "                },\n",
    "                'properties': {\n",
    "                    'name': 'Null Island',\n",
    "                },\n",
    "            },\n",
    "        ],\n",
    "    },\n",
    "    style={\n",
    "        'Point': {\n",
    "            'radius': 10,\n",
    "            'fillColor': '#ff7800',\n",
    "            'color': '#000',\n",
    "            'weight': 1,\n",
    "            'opacity': 1,\n",
    "            'fillOpacity': 0.8,\n",
    "        },\n",
    "    },\n",
    "    visible=True\n",
    ")"
   ]
  },
  {
   "cell_type": "code",
   "execution_count": 25,
   "metadata": {},
   "outputs": [],
   "source": [
    "m.add_layer(widget)"
   ]
  },
  {
   "cell_type": "code",
   "execution_count": 26,
   "metadata": {},
   "outputs": [],
   "source": [
    "widget.visible = False"
   ]
  },
  {
   "cell_type": "code",
   "execution_count": 27,
   "metadata": {},
   "outputs": [],
   "source": [
    "widget.visible=True"
   ]
  },
  {
   "cell_type": "code",
   "execution_count": 28,
   "metadata": {},
   "outputs": [
    {
     "data": {
      "text/plain": [
       "{'type': 'FeatureCollection',\n",
       " 'features': [{'type': 'Feature',\n",
       "   'geometry': {'type': 'Point', 'coordinates': [0, 0]},\n",
       "   'properties': {'name': 'Null Island'}}]}"
      ]
     },
     "execution_count": 28,
     "metadata": {},
     "output_type": "execute_result"
    }
   ],
   "source": [
    "widget.data"
   ]
  },
  {
   "cell_type": "code",
   "execution_count": 29,
   "metadata": {},
   "outputs": [],
   "source": [
    "import matplotlib as mpl\n",
    "import matplotlib.cm\n",
    "import matplotlib.colors\n",
    "import numpy as np\n",
    "\n",
    "\n",
    "def n_colors(n, colormap=mpl.cm.Blues):\n",
    "    data = np.linspace(0.0, 1.0, n)\n",
    "    c = [mpl.colors.rgb2hex(d[0:3]) for d in colormap(data)]\n",
    "    return c\n",
    "\n",
    "\n",
    "def data_to_colors(data, colormap=mpl.cm.Blues):\n",
    "    c = [mpl.colors.rgb2hex(d[0:3]) for d in colormap(mpl.colors.Normalize()(data))]\n",
    "    return c"
   ]
  },
  {
   "cell_type": "code",
   "execution_count": 30,
   "metadata": {
    "jupyter": {
     "source_hidden": true
    }
   },
   "outputs": [],
   "source": [
    "import json\n",
    "\n",
    "with open(\"demo.json\") as f:\n",
    "    data = json.load(f)"
   ]
  },
  {
   "cell_type": "code",
   "execution_count": 31,
   "metadata": {
    "jupyter": {
     "source_hidden": true
    }
   },
   "outputs": [
    {
     "name": "stdout",
     "output_type": "stream",
     "text": [
      "20\n"
     ]
    }
   ],
   "source": [
    "n_features = len(data[\"features\"])\n",
    "colors = n_colors(n_features)\n",
    "print(n_features)"
   ]
  },
  {
   "cell_type": "code",
   "execution_count": 32,
   "metadata": {},
   "outputs": [
    {
     "data": {
      "text/plain": [
       "['#f7fbff',\n",
       " '#edf4fc',\n",
       " '#e3eef8',\n",
       " '#d8e7f5',\n",
       " '#cee0f2',\n",
       " '#c2d9ee',\n",
       " '#b2d2e8',\n",
       " '#a0cbe2',\n",
       " '#8cc0dd',\n",
       " '#75b4d8',\n",
       " '#63a8d3',\n",
       " '#519ccc',\n",
       " '#4090c5',\n",
       " '#3282be',\n",
       " '#2474b7',\n",
       " '#1966ad',\n",
       " '#0e59a2',\n",
       " '#084b93',\n",
       " '#083d7f',\n",
       " '#08306b']"
      ]
     },
     "execution_count": 32,
     "metadata": {},
     "output_type": "execute_result"
    }
   ],
   "source": [
    "colors"
   ]
  },
  {
   "cell_type": "code",
   "execution_count": 33,
   "metadata": {
    "jupyter": {
     "source_hidden": true
    }
   },
   "outputs": [],
   "source": [
    "for feature, color in zip(data[\"features\"], colors):\n",
    "    feature[\"properties\"][\"style\"] = {\n",
    "        \"color\": color,\n",
    "        \"weight\": 1,\n",
    "        \"fillColor\": color,\n",
    "        \"fillOpacity\": 0.5,\n",
    "    }"
   ]
  },
  {
   "cell_type": "code",
   "execution_count": 34,
   "metadata": {
    "jupyter": {
     "source_hidden": true
    }
   },
   "outputs": [
    {
     "data": {
      "text/plain": [
       "{'geometry': {'type': 'MultiPolygon',\n",
       "  'coordinates': [[[[-77.39940577291571, 34.5780540544853],\n",
       "     [-77.39940610066606, 34.57805427015046],\n",
       "     [-77.39940640189788, 34.57805446836596],\n",
       "     [-77.39940680648922, 34.57805473459376],\n",
       "     [-77.39940687019617, 34.57805477651398],\n",
       "     [-77.39940689381065, 34.57805472199389],\n",
       "     [-77.3994073308358, 34.57805432604519],\n",
       "     [-77.39940731720131, 34.578054179242265],\n",
       "     [-77.39940728534575, 34.578053836252096],\n",
       "     [-77.39940728147378, 34.57805380828763],\n",
       "     [-77.39940726378504, 34.57805363205166],\n",
       "     [-77.39940725501071, 34.57805361742678],\n",
       "     [-77.39940719593868, 34.57805349818902],\n",
       "     [-77.39940711258689, 34.57805350039165],\n",
       "     [-77.39940706262787, 34.57805349996589],\n",
       "     [-77.3994070238417, 34.578053501157314],\n",
       "     [-77.39940689549977, 34.57805350509971],\n",
       "     [-77.3994068702403, 34.5780535173504],\n",
       "     [-77.39940683257294, 34.57805352755014],\n",
       "     [-77.39940665584797, 34.57805351246129],\n",
       "     [-77.39940650171212, 34.578053517196004],\n",
       "     [-77.39940646539253, 34.578053518311656],\n",
       "     [-77.39940610067742, 34.578053945657025]]]]},\n",
       " 'type': 'Feature',\n",
       " 'id': 'demo0',\n",
       " 'properties': {'style': {'color': '#f7fbff',\n",
       "   'weight': 1,\n",
       "   'fillColor': '#f7fbff',\n",
       "   'fillOpacity': 0.5}}}"
      ]
     },
     "execution_count": 34,
     "metadata": {},
     "output_type": "execute_result"
    }
   ],
   "source": [
    "data[\"features\"][0]\n"
   ]
  },
  {
   "cell_type": "code",
   "execution_count": 35,
   "metadata": {},
   "outputs": [],
   "source": [
    "g = GeoJSON(data=data)\n"
   ]
  },
  {
   "cell_type": "code",
   "execution_count": 36,
   "metadata": {},
   "outputs": [],
   "source": [
    "m.add_layer(g)"
   ]
  },
  {
   "cell_type": "code",
   "execution_count": 37,
   "metadata": {},
   "outputs": [],
   "source": [
    "m.remove_layer(g)"
   ]
  },
  {
   "cell_type": "code",
   "execution_count": 38,
   "metadata": {},
   "outputs": [],
   "source": [
    "points = [[0, 0]]\n",
    "heatmap_layer = HeatmapLayer(blur=20, radius=15, points=points)"
   ]
  },
  {
   "cell_type": "code",
   "execution_count": 39,
   "metadata": {},
   "outputs": [],
   "source": [
    "m.add_layer(heatmap_layer)"
   ]
  },
  {
   "cell_type": "code",
   "execution_count": 40,
   "metadata": {},
   "outputs": [],
   "source": [
    "points_data_france = [\n",
    "    [48.8566, 2.3522, 0.8],  # Paris\n",
    "    [45.7640, 4.8357, 0.6],  # Lyon\n",
    "    [43.2965, 5.3698, 0.7],  # Marseille\n",
    "    [43.6045, 1.4442, 0.5],  # Toulouse\n",
    "    [43.7102, 7.2620, 0.4],  # Nice\n",
    "    [47.2184, -1.5536, 0.3], # Nantes\n",
    "    [48.5734, 7.7521, 0.6],  # Strasbourg\n",
    "    [43.6119, 3.8772, 0.5],  # Montpellier\n",
    "    [44.8378, -0.5792, 0.4], # Bordeaux\n",
    "    [50.6292, 3.0573, 0.3],  # Lille\n",
    "]\n"
   ]
  },
  {
   "cell_type": "code",
   "execution_count": 41,
   "metadata": {},
   "outputs": [],
   "source": [
    "heatmap_layer = HeatmapLayer(blur=20, radius=15, points=points_data_france)"
   ]
  },
  {
   "cell_type": "code",
   "execution_count": 42,
   "metadata": {},
   "outputs": [],
   "source": [
    "points_data_france_1 = [\n",
    "    [42.3656, 9.1493, 16.79],  # Haute-Corse\n",
    "    [43.4527, 6.2649, 16.28],  # Var\n",
    "    [43.6043, 5.0123, 15.93],  # Bouches-du-Rhône\n",
    "    [42.6987, 2.8956, 15.87],  # Pyrénées-Orientales\n",
    "    [43.6119, 3.8772, 15.81],  # Hérault\n",
    "    [41.9264, 8.7364, 15.64],  # Corse-du-Sud\n",
    "    [44.8378, -0.5792, 15.28],  # Gironde\n",
    "    [43.8914, -1.2200, 15.2],  # Landes\n",
    "    [43.9493, 4.8055, 15.17],  # Vaucluse\n",
    "    [44.1004, 1.3555, 14.85],  # Tarn-et-Garonne\n",
    "    [44.3058, 0.6283, 14.85],  # Lot-et-Garonne\n",
    "    [43.6045, 1.4442, 14.75],  # Haute-Garonne\n",
    "    [43.9074, 4.5079, 14.65],  # Gard\n",
    "    [43.6205, 0.5898, 14.52],  # Gers\n",
    "    [43.7102, 7.2620, 14.41],  # Alpes-Maritimes\n",
    "    [45.7515, -0.6331, 14.34],  # Charente-Maritime\n",
    "    [44.6144, 1.9023, 14.05],  # Lot\n",
    "    [43.6043, 2.2344, 13.88],  # Tarn\n",
    "    [43.1566, 2.3605, 13.88],  # Aude\n",
    "    [43.2998, -0.3674, 13.85],  # Pyrénées-Atlantiques\n",
    "    # Continue for other locations as needed\n",
    "]\n"
   ]
  },
  {
   "cell_type": "code",
   "execution_count": 43,
   "metadata": {},
   "outputs": [],
   "source": [
    "heatmap_layer1 = HeatmapLayer(blur=20, radius=15, points=points_data_france_1)"
   ]
  },
  {
   "cell_type": "code",
   "execution_count": 44,
   "metadata": {},
   "outputs": [],
   "source": [
    "m.add_layer(heatmap_layer1)"
   ]
  },
  {
   "cell_type": "code",
   "execution_count": null,
   "metadata": {},
   "outputs": [],
   "source": []
  },
  {
   "cell_type": "code",
   "execution_count": null,
   "metadata": {},
   "outputs": [],
   "source": []
  }
 ],
 "metadata": {
  "kernelspec": {
   "display_name": "Python 3 (ipykernel)",
   "language": "python",
   "name": "python3"
  },
  "language_info": {
   "codemirror_mode": {
    "name": "ipython",
    "version": 3
   },
   "file_extension": ".py",
   "mimetype": "text/x-python",
   "name": "python",
   "nbconvert_exporter": "python",
   "pygments_lexer": "ipython3",
   "version": "3.10.14"
  }
 },
 "nbformat": 4,
 "nbformat_minor": 4
}
