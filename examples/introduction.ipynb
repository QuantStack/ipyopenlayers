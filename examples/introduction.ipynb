{
 "cells": [
  {
   "cell_type": "markdown",
   "metadata": {},
   "source": [
    "# Introduction"
   ]
  },
  {
   "cell_type": "code",
   "execution_count": 1,
   "metadata": {},
   "outputs": [],
   "source": [
    "from ipyopenlayers import Map, TileLayer, ImageOverlay, VideoOverlay,PopupOverlay, ZoomSlider,FullScreen,ScaleLine,MousePosition"
   ]
  },
  {
   "cell_type": "code",
   "execution_count": 2,
   "metadata": {},
   "outputs": [],
   "source": [
    "from ipyopenlayers import GeoJSON, HeatmapLayer, WindLayer, ArrowLayer"
   ]
  },
  {
   "cell_type": "code",
   "execution_count": 3,
   "metadata": {},
   "outputs": [
    {
     "data": {
      "application/vnd.jupyter.widget-view+json": {
       "model_id": "0dbc1a8a029a436a88ab1d624e24bc6e",
       "version_major": 2,
       "version_minor": 0
      },
      "text/plain": [
       "Map(center=[0.0, 0.0], coordinates=[0, 0])"
      ]
     },
     "execution_count": 3,
     "metadata": {},
     "output_type": "execute_result"
    }
   ],
   "source": [
    "m = Map(center=[0.0, 0.0], zoom=2)\n",
    "m"
   ]
  },
  {
   "cell_type": "code",
   "execution_count": 4,
   "metadata": {},
   "outputs": [],
   "source": [
    "layer=TileLayer()\n",
    "m.add_layer(layer)"
   ]
  },
  {
   "cell_type": "code",
   "execution_count": 34,
   "metadata": {},
   "outputs": [
    {
     "data": {
      "text/plain": [
       "[0, 0]"
      ]
     },
     "execution_count": 34,
     "metadata": {},
     "output_type": "execute_result"
    }
   ],
   "source": [
    "m.coordinates"
   ]
  },
  {
   "cell_type": "code",
   "execution_count": 14,
   "metadata": {},
   "outputs": [
    {
     "name": "stdout",
     "output_type": "stream",
     "text": [
      "Clicked coordinates: [15.609607948803532, 6.075295688614858]\n"
     ]
    }
   ],
   "source": [
    "m._handle_clicked_coordinates()"
   ]
  },
  {
   "cell_type": "code",
   "execution_count": 5,
   "metadata": {},
   "outputs": [],
   "source": [
    "points_data_france = [\n",
    "    [48.8566, 2.3522, 0.8],  # Paris\n",
    "    [45.7640, 4.8357, 0.6],  # Lyon\n",
    "    [43.2965, 5.3698, 0.7],  # Marseille\n",
    "    [43.6045, 1.4442, 0.5],  # Toulouse\n",
    "    [43.7102, 7.2620, 0.4],  # Nice\n",
    "    [47.2184, -1.5536, 0.3], # Nantes\n",
    "    [48.5734, 7.7521, 0.6],  # Strasbourg\n",
    "    [43.6119, 3.8772, 0.5],  # Montpellier\n",
    "    [44.8378, -0.5792, 0.4], # Bordeaux\n",
    "    [50.6292, 3.0573, 0.3],  # Lille\n",
    "]\n",
    "heatmap_layer = HeatmapLayer(blur=20, radius=15, points=points_data_france)\n",
    "m.add_layer(heatmap_layer)"
   ]
  },
  {
   "cell_type": "code",
   "execution_count": 22,
   "metadata": {},
   "outputs": [],
   "source": [
    "wind=WindLayer()\n"
   ]
  },
  {
   "cell_type": "code",
   "execution_count": 23,
   "metadata": {},
   "outputs": [],
   "source": [
    "import json\n",
    "\n",
    "with open('./metadata.json', 'r') as f:\n",
    "    wind.metadata = json.load(f)\n",
    "\n",
    "with open('./u.json', 'r') as f:\n",
    "    wind.ufile = json.load(f)\n",
    "\n",
    "with open('./v.json', 'r') as f:\n",
    "    wind.vfile = json.load(f)"
   ]
  },
  {
   "cell_type": "code",
   "execution_count": 24,
   "metadata": {},
   "outputs": [],
   "source": [
    "m.add_layer(wind)"
   ]
  },
  {
   "cell_type": "code",
   "execution_count": 25,
   "metadata": {},
   "outputs": [],
   "source": [
    "arrow=ArrowLayer()\n"
   ]
  },
  {
   "cell_type": "code",
   "execution_count": 26,
   "metadata": {},
   "outputs": [],
   "source": [
    "import requests\n",
    "import config \n",
    "all_weather_data = []\n",
    "coordinates = [\n",
    "    {\"lat\": 48.8566, \"lon\": 2.3522},  # Paris\n",
    "    {\"lat\": 51.5074, \"lon\": -0.1278},  # London\n",
    "    {\"lat\": 40.7128, \"lon\": -74.0060}  # New York\n",
    "]\n",
    "for coords in coordinates:\n",
    "    url = f'https://api.openweathermap.org/data/2.5/weather?lat={coords[\"lat\"]}&lon={coords[\"lon\"]}&appid={config.API_KEY}'\n",
    "    response = requests.get(url)\n",
    "\n",
    "    if response.status_code == 200:\n",
    "        data = response.json()\n",
    "        \n",
    "        all_weather_data.append(data)\n",
    "        \n",
    "        coord = data.get('coord', {})\n",
    "        weather = data.get('weather', [{}])[0]\n",
    "        main = data.get('main', {})\n",
    "        wind = data.get('wind', {})\n",
    "        sys = data.get('sys', {})\n",
    "\n",
    "        \n",
    "    else:\n",
    "        print(f\"Failed to get weather data for coordinates {coords}: {response.status_code}\")\n"
   ]
  },
  {
   "cell_type": "code",
   "execution_count": 27,
   "metadata": {},
   "outputs": [],
   "source": [
    "arrow.data=all_weather_data\n",
    "\n",
    "m.add_layer(arrow)"
   ]
  },
  {
   "cell_type": "code",
   "execution_count": null,
   "metadata": {},
   "outputs": [],
   "source": []
  },
  {
   "cell_type": "code",
   "execution_count": null,
   "metadata": {},
   "outputs": [],
   "source": []
  }
 ],
 "metadata": {
  "kernelspec": {
   "display_name": "Python 3 (ipykernel)",
   "language": "python",
   "name": "python3"
  },
  "language_info": {
   "codemirror_mode": {
    "name": "ipython",
    "version": 3
   },
   "file_extension": ".py",
   "mimetype": "text/x-python",
   "name": "python",
   "nbconvert_exporter": "python",
   "pygments_lexer": "ipython3",
   "version": "3.10.14"
  }
 },
 "nbformat": 4,
 "nbformat_minor": 4
}
